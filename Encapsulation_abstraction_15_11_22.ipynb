{
 "cells": [
  {
   "cell_type": "code",
   "execution_count": 1,
   "id": "c2d9bf3a",
   "metadata": {},
   "outputs": [],
   "source": [
    "# Encapsulation-->it is wrapping the data  and method into single entity.\n",
    "# here we have    publuc private  and  protected access  technique.\n",
    "# access modifiers--> public, private and protected\n"
   ]
  },
  {
   "cell_type": "code",
   "execution_count": 3,
   "id": "0f665e2c",
   "metadata": {},
   "outputs": [],
   "source": [
    "# public--> can b accessed outside the class self.name='nia'\n",
    "# private --> only inside the class          self.__name='nia'\n",
    "# protected-->only inside the class and its sub classes self._name='nia'"
   ]
  },
  {
   "cell_type": "code",
   "execution_count": 4,
   "id": "0d8c7e8e",
   "metadata": {},
   "outputs": [],
   "source": [
    "# public :"
   ]
  },
  {
   "cell_type": "code",
   "execution_count": 5,
   "id": "a498ad6d",
   "metadata": {},
   "outputs": [],
   "source": [
    "# write a small example for public access modifier"
   ]
  },
  {
   "cell_type": "code",
   "execution_count": 13,
   "id": "4cf53737",
   "metadata": {},
   "outputs": [
    {
     "name": "stdout",
     "output_type": "stream",
     "text": [
      "my name is nina and my age is 10\n",
      "my name is nina and my age is 10\n"
     ]
    }
   ],
   "source": [
    "class emp:\n",
    "    def __init__(self, name, age):\n",
    "        self.name = name\n",
    "        self.age = age\n",
    "    def show(self):\n",
    "        print(\"my name is\",self.name,'and my age is',self.age)\n",
    "print(\"my name is\",a.name,'and my age is',a.age)  \n",
    "a=emp('nina',10)\n",
    "a.show()"
   ]
  },
  {
   "cell_type": "code",
   "execution_count": 16,
   "id": "04e57ff7",
   "metadata": {},
   "outputs": [
    {
     "name": "stdout",
     "output_type": "stream",
     "text": [
      "Shikha is working on Library\n"
     ]
    }
   ],
   "source": [
    "class Employee:\n",
    "  def __init__(self,name,project):\n",
    "     self.name = name\n",
    "     self.project = project\n",
    "\n",
    "  def work (self):\n",
    "      print(self.name , 'is working on',self.project)\n",
    "\n",
    "a = Employee(\"Shikha\",\"Library\")\n",
    "a.work()\n"
   ]
  },
  {
   "cell_type": "code",
   "execution_count": null,
   "id": "92bdabfd",
   "metadata": {},
   "outputs": [],
   "source": [
    "#private:"
   ]
  },
  {
   "cell_type": "code",
   "execution_count": 17,
   "id": "900d496b",
   "metadata": {},
   "outputs": [],
   "source": [
    "# try to write a program for PAM"
   ]
  },
  {
   "cell_type": "code",
   "execution_count": null,
   "id": "2e6c73e7",
   "metadata": {},
   "outputs": [],
   "source": []
  },
  {
   "cell_type": "code",
   "execution_count": 26,
   "id": "0b14bf27",
   "metadata": {},
   "outputs": [
    {
     "ename": "AttributeError",
     "evalue": "'emp' object has no attribute '__name'",
     "output_type": "error",
     "traceback": [
      "\u001b[1;31m---------------------------------------------------------------------------\u001b[0m",
      "\u001b[1;31mAttributeError\u001b[0m                            Traceback (most recent call last)",
      "Input \u001b[1;32mIn [26]\u001b[0m, in \u001b[0;36m<cell line: 8>\u001b[1;34m()\u001b[0m\n\u001b[0;32m      6\u001b[0m                \u001b[38;5;28mprint\u001b[39m(\u001b[38;5;28mself\u001b[39m\u001b[38;5;241m.\u001b[39m__name,\u001b[38;5;28mself\u001b[39m\u001b[38;5;241m.\u001b[39m__age)\n\u001b[0;32m      7\u001b[0m a\u001b[38;5;241m=\u001b[39memp(\u001b[38;5;124m'\u001b[39m\u001b[38;5;124mdhanu\u001b[39m\u001b[38;5;124m'\u001b[39m, \u001b[38;5;241m28\u001b[39m)\n\u001b[1;32m----> 8\u001b[0m \u001b[38;5;28mprint\u001b[39m(\u001b[43ma\u001b[49m\u001b[38;5;241;43m.\u001b[39;49m\u001b[43m__name\u001b[49m,a\u001b[38;5;241m.\u001b[39m__age)\n\u001b[0;32m      9\u001b[0m a\u001b[38;5;241m.\u001b[39mshow()\n",
      "\u001b[1;31mAttributeError\u001b[0m: 'emp' object has no attribute '__name'"
     ]
    }
   ],
   "source": [
    "class emp:\n",
    "    def __init__(self, name, age):\n",
    "         self.__name=name\n",
    "         self.__age=age\n",
    "    def show(self):\n",
    "               print(self.__name,self.__age)\n",
    "a=emp('dhanu', 28)\n",
    "print(a.__name,a.__age)\n",
    "a.show()\n"
   ]
  },
  {
   "cell_type": "code",
   "execution_count": 42,
   "id": "026be32a",
   "metadata": {},
   "outputs": [
    {
     "name": "stdout",
     "output_type": "stream",
     "text": [
      "name: vikas\n"
     ]
    }
   ],
   "source": [
    "class A:\n",
    "    name=\"vikas\"\n",
    "    def show(abc):\n",
    "        print(\"name:\",A.name)\n",
    "obj=A()\n",
    "\n",
    "obj.show() "
   ]
  },
  {
   "cell_type": "code",
   "execution_count": 45,
   "id": "a8075320",
   "metadata": {},
   "outputs": [
    {
     "name": "stdout",
     "output_type": "stream",
     "text": [
      "Shikha is working on Libraby\n",
      "Shikha is working on Libraby\n"
     ]
    }
   ],
   "source": [
    "# protected:\n",
    "class Employee:\n",
    "  def __init__(self,name,project):\n",
    "     self._name = name\n",
    "     self._project = project\n",
    "\n",
    "  def work (self):\n",
    "      print(self._name , \"is working on\",self._project)\n",
    "print(a._name , \"is working on\",a._project)\n",
    "\n",
    "a = Employee(\"Shikha\",\"Libraby\")\n",
    "a.work()\n"
   ]
  },
  {
   "cell_type": "code",
   "execution_count": 48,
   "id": "0bf5daf7",
   "metadata": {},
   "outputs": [
    {
     "name": "stdout",
     "output_type": "stream",
     "text": [
      "A is ASHU\n",
      "B  is 29\n"
     ]
    }
   ],
   "source": [
    "class demo:\n",
    "    def __init__(self, a, b):\n",
    "        # protected variables\n",
    "        self._a = a\n",
    "        self._b = b\n",
    "  \n",
    "    # protected method===============\n",
    "    def _details(self):\n",
    "        print(\"A is\", self._a)\n",
    "\n",
    "class demo1(demo):\n",
    "    def info(self):\n",
    "        self._details()\n",
    "        print(\"B  is 29\")\n",
    "\n",
    "obj = demo1(\"ASHU\", 29)\n",
    "obj.info()\n"
   ]
  },
  {
   "cell_type": "code",
   "execution_count": 73,
   "id": "45f3ffd7",
   "metadata": {},
   "outputs": [
    {
     "name": "stdout",
     "output_type": "stream",
     "text": [
      "my name is nina\n"
     ]
    },
    {
     "ename": "AttributeError",
     "evalue": "'demo3' object has no attribute '_name'",
     "output_type": "error",
     "traceback": [
      "\u001b[1;31m---------------------------------------------------------------------------\u001b[0m",
      "\u001b[1;31mAttributeError\u001b[0m                            Traceback (most recent call last)",
      "Input \u001b[1;32mIn [73]\u001b[0m, in \u001b[0;36m<cell line: 20>\u001b[1;34m()\u001b[0m\n\u001b[0;32m     18\u001b[0m a\u001b[38;5;241m.\u001b[39mdisplay()\n\u001b[0;32m     19\u001b[0m b\u001b[38;5;241m=\u001b[39mdemo3()\n\u001b[1;32m---> 20\u001b[0m \u001b[43mb\u001b[49m\u001b[38;5;241;43m.\u001b[39;49m\u001b[43mfun\u001b[49m\u001b[43m(\u001b[49m\u001b[43m)\u001b[49m\n",
      "Input \u001b[1;32mIn [73]\u001b[0m, in \u001b[0;36mdemo3.fun\u001b[1;34m(self)\u001b[0m\n\u001b[0;32m     14\u001b[0m \u001b[38;5;28;01mdef\u001b[39;00m \u001b[38;5;21mfun\u001b[39m(\u001b[38;5;28mself\u001b[39m):\n\u001b[1;32m---> 15\u001b[0m     \u001b[38;5;28mprint\u001b[39m(\u001b[38;5;124m'\u001b[39m\u001b[38;5;124mmy name is\u001b[39m\u001b[38;5;124m'\u001b[39m,\u001b[38;5;28;43mself\u001b[39;49m\u001b[38;5;241;43m.\u001b[39;49m\u001b[43m_name\u001b[49m)\n",
      "\u001b[1;31mAttributeError\u001b[0m: 'demo3' object has no attribute '_name'"
     ]
    }
   ],
   "source": [
    "class demo:\n",
    "    def __init__(self):\n",
    "        self._name='nina'\n",
    "class demo1(demo):\n",
    "    def __init__(self):\n",
    "        \n",
    "        demo.__init__(self)\n",
    "        \n",
    "    def display(self):\n",
    "        print('my name is',self._name)\n",
    "        \n",
    "        \n",
    "class demo3():\n",
    "    def fun(self):\n",
    "        print('my name is',self._name)\n",
    "        \n",
    "a=demo1()\n",
    "a.display()\n",
    "b=demo3()\n",
    "b.fun()"
   ]
  },
  {
   "cell_type": "code",
   "execution_count": 59,
   "id": "f1bf8576",
   "metadata": {},
   "outputs": [],
   "source": [
    "# abstraction"
   ]
  },
  {
   "cell_type": "code",
   "execution_count": 61,
   "id": "abc5be6f",
   "metadata": {},
   "outputs": [],
   "source": [
    "a=demo1()\n",
    "b=demo1()\n",
    "c=demo1()"
   ]
  },
  {
   "cell_type": "code",
   "execution_count": 62,
   "id": "908fc959",
   "metadata": {},
   "outputs": [],
   "source": [
    "# from abc import ABC\n",
    "# class class_name(ABC):"
   ]
  },
  {
   "cell_type": "code",
   "execution_count": 63,
   "id": "eb7f17ec",
   "metadata": {},
   "outputs": [
    {
     "name": "stdout",
     "output_type": "stream",
     "text": [
      "The mileage is 30kmph\n"
     ]
    }
   ],
   "source": [
    "from abc import ABC, abstractmethod   \n",
    "class Car(ABC):   \n",
    "    def mileage(self):   \n",
    "        pass  \n",
    "  \n",
    "class suzuki(Car):   \n",
    "    def mileage(self):   \n",
    "        print(\"The mileage is 30kmph\")   \n",
    "\n",
    "t= suzuki ()   \n",
    "t.mileage()\n"
   ]
  },
  {
   "cell_type": "code",
   "execution_count": 64,
   "id": "531b5e2e",
   "metadata": {},
   "outputs": [
    {
     "name": "stdout",
     "output_type": "stream",
     "text": [
      "hi HI HI HI \n"
     ]
    }
   ],
   "source": [
    "from abc import ABC, abstractmethod\n",
    "class dmo(ABC):\n",
    "    @abstractmethod\n",
    "    def m1(self):\n",
    "        pass\n",
    "class demo1(demo):\n",
    "    def m1(self):\n",
    "        print(\"hi HI HI HI \")\n",
    "        \n",
    "\n",
    "obj = demo1()\n",
    "obj.m1()\n"
   ]
  },
  {
   "cell_type": "code",
   "execution_count": 65,
   "id": "55c5b75c",
   "metadata": {},
   "outputs": [
    {
     "name": "stdout",
     "output_type": "stream",
     "text": [
      "We are better human than worker\n",
      "We dont much care\n"
     ]
    }
   ],
   "source": [
    "from abc import ABC, abstractmethod\n",
    "\n",
    "class Palace(ABC):\n",
    "\n",
    "    @abstractmethod\n",
    "    def employees(self):\n",
    "        pass\n",
    "\n",
    "class Atelier(Palace):\n",
    "\n",
    "\n",
    "    def employees(self):\n",
    "        print(\"We are better human than worker\")\n",
    "\n",
    "class Curator(Palace):\n",
    "\n",
    "    def employees(self):\n",
    "        print(\"We dont much care\")\n",
    "\n",
    "R = Atelier()\n",
    "R.employees()\n",
    "\n",
    "K = Curator()\n",
    "K.employees()\n"
   ]
  },
  {
   "cell_type": "code",
   "execution_count": 66,
   "id": "faa73113",
   "metadata": {},
   "outputs": [
    {
     "data": {
      "text/plain": [
       "'Area of the circle is 314.0'"
      ]
     },
     "execution_count": 66,
     "metadata": {},
     "output_type": "execute_result"
    }
   ],
   "source": [
    "from abc import ABC\n",
    "class shape(ABC):\n",
    "    def area(self):\n",
    "        pass\n",
    "class square(shape):\n",
    "    def __init__(self,side):\n",
    "        self.side=side\n",
    "    def area(self):\n",
    "        return f\"Area of the square is {self.side**2}\"\n",
    "class rectangle(shape):\n",
    "    def __init__(self,length,width):\n",
    "        self.length= length\n",
    "        self.width = width\n",
    "    def area(self):\n",
    "        return f\"area of the rectangle is {self.length*self.width}\"\n",
    "class circle(shape):\n",
    "    def __init__(self,radius):\n",
    "        self.pie = 3.14\n",
    "        self.radius = radius\n",
    "    def area(self):\n",
    "        return f\"Area of the circle is {self.pie*self.radius**2}\"\n",
    "\n",
    "sq = square(2)\n",
    "sq.area()\n",
    "rec = rectangle(12,10)\n",
    "rec.area()\n",
    "cir = circle(10)\n",
    "cir.area()\n"
   ]
  },
  {
   "cell_type": "code",
   "execution_count": 68,
   "id": "59c08488",
   "metadata": {},
   "outputs": [
    {
     "name": "stdout",
     "output_type": "stream",
     "text": [
      "Abstraction\n"
     ]
    }
   ],
   "source": [
    "from abc import ABC\n",
    "class Sample(ABC):\n",
    "    def Abstract_method(self):\n",
    "            pass\n",
    "class child(Sample):\n",
    "    def Abstract_method(self):\n",
    "        print(\"Abstraction\")\n",
    "o=child()\n",
    "o.Abstract_method()"
   ]
  },
  {
   "cell_type": "code",
   "execution_count": 69,
   "id": "1f5d7ce6",
   "metadata": {},
   "outputs": [],
   "source": [
    "#basics\n",
    "#datatypes:\n",
    "# 1\n",
    "#2 \n",
    "#3\n",
    "###################\n",
    "#loops\n",
    "#1\n",
    "#2\n",
    "#3\n",
    "#4\n",
    "###################"
   ]
  },
  {
   "cell_type": "code",
   "execution_count": 72,
   "id": "333b06c2",
   "metadata": {},
   "outputs": [
    {
     "name": "stdout",
     "output_type": "stream",
     "text": [
      "2\n",
      "4\n"
     ]
    }
   ],
   "source": [
    "a=[1,2,3,4]\n",
    "for i in a:\n",
    "    if i%2==0:\n",
    "        print(i)\n",
    "    "
   ]
  },
  {
   "cell_type": "code",
   "execution_count": null,
   "id": "cb06c271",
   "metadata": {},
   "outputs": [],
   "source": []
  }
 ],
 "metadata": {
  "kernelspec": {
   "display_name": "Python 3 (ipykernel)",
   "language": "python",
   "name": "python3"
  },
  "language_info": {
   "codemirror_mode": {
    "name": "ipython",
    "version": 3
   },
   "file_extension": ".py",
   "mimetype": "text/x-python",
   "name": "python",
   "nbconvert_exporter": "python",
   "pygments_lexer": "ipython3",
   "version": "3.9.12"
  }
 },
 "nbformat": 4,
 "nbformat_minor": 5
}
