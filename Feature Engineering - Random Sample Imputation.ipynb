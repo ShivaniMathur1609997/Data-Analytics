{
 "cells": [
  {
   "cell_type": "code",
   "execution_count": 4,
   "id": "de1315e5",
   "metadata": {},
   "outputs": [],
   "source": [
    "import pandas as pd\n",
    "import numpy as np\n",
    "import matplotlib.pyplot as plt\n",
    "import seaborn as sns\n",
    "%matplotlib inline"
   ]
  },
  {
   "cell_type": "code",
   "execution_count": 7,
   "id": "5b103aaa",
   "metadata": {},
   "outputs": [],
   "source": [
    "df = pd.read_csv('Titanic-dataset.csv',usecols = ['Age','Fare','Survived'])"
   ]
  },
  {
   "cell_type": "code",
   "execution_count": 8,
   "id": "007db06c",
   "metadata": {},
   "outputs": [
    {
     "data": {
      "text/html": [
       "<div>\n",
       "<style scoped>\n",
       "    .dataframe tbody tr th:only-of-type {\n",
       "        vertical-align: middle;\n",
       "    }\n",
       "\n",
       "    .dataframe tbody tr th {\n",
       "        vertical-align: top;\n",
       "    }\n",
       "\n",
       "    .dataframe thead th {\n",
       "        text-align: right;\n",
       "    }\n",
       "</style>\n",
       "<table border=\"1\" class=\"dataframe\">\n",
       "  <thead>\n",
       "    <tr style=\"text-align: right;\">\n",
       "      <th></th>\n",
       "      <th>Survived</th>\n",
       "      <th>Age</th>\n",
       "      <th>Fare</th>\n",
       "    </tr>\n",
       "  </thead>\n",
       "  <tbody>\n",
       "    <tr>\n",
       "      <th>0</th>\n",
       "      <td>0</td>\n",
       "      <td>22.0</td>\n",
       "      <td>7.2500</td>\n",
       "    </tr>\n",
       "    <tr>\n",
       "      <th>1</th>\n",
       "      <td>1</td>\n",
       "      <td>38.0</td>\n",
       "      <td>71.2833</td>\n",
       "    </tr>\n",
       "    <tr>\n",
       "      <th>2</th>\n",
       "      <td>1</td>\n",
       "      <td>26.0</td>\n",
       "      <td>7.9250</td>\n",
       "    </tr>\n",
       "    <tr>\n",
       "      <th>3</th>\n",
       "      <td>1</td>\n",
       "      <td>35.0</td>\n",
       "      <td>53.1000</td>\n",
       "    </tr>\n",
       "    <tr>\n",
       "      <th>4</th>\n",
       "      <td>0</td>\n",
       "      <td>35.0</td>\n",
       "      <td>8.0500</td>\n",
       "    </tr>\n",
       "    <tr>\n",
       "      <th>...</th>\n",
       "      <td>...</td>\n",
       "      <td>...</td>\n",
       "      <td>...</td>\n",
       "    </tr>\n",
       "    <tr>\n",
       "      <th>886</th>\n",
       "      <td>0</td>\n",
       "      <td>27.0</td>\n",
       "      <td>13.0000</td>\n",
       "    </tr>\n",
       "    <tr>\n",
       "      <th>887</th>\n",
       "      <td>1</td>\n",
       "      <td>19.0</td>\n",
       "      <td>30.0000</td>\n",
       "    </tr>\n",
       "    <tr>\n",
       "      <th>888</th>\n",
       "      <td>0</td>\n",
       "      <td>NaN</td>\n",
       "      <td>23.4500</td>\n",
       "    </tr>\n",
       "    <tr>\n",
       "      <th>889</th>\n",
       "      <td>1</td>\n",
       "      <td>26.0</td>\n",
       "      <td>30.0000</td>\n",
       "    </tr>\n",
       "    <tr>\n",
       "      <th>890</th>\n",
       "      <td>0</td>\n",
       "      <td>32.0</td>\n",
       "      <td>7.7500</td>\n",
       "    </tr>\n",
       "  </tbody>\n",
       "</table>\n",
       "<p>891 rows × 3 columns</p>\n",
       "</div>"
      ],
      "text/plain": [
       "     Survived   Age     Fare\n",
       "0           0  22.0   7.2500\n",
       "1           1  38.0  71.2833\n",
       "2           1  26.0   7.9250\n",
       "3           1  35.0  53.1000\n",
       "4           0  35.0   8.0500\n",
       "..        ...   ...      ...\n",
       "886         0  27.0  13.0000\n",
       "887         1  19.0  30.0000\n",
       "888         0   NaN  23.4500\n",
       "889         1  26.0  30.0000\n",
       "890         0  32.0   7.7500\n",
       "\n",
       "[891 rows x 3 columns]"
      ]
     },
     "execution_count": 8,
     "metadata": {},
     "output_type": "execute_result"
    }
   ],
   "source": [
    "df"
   ]
  },
  {
   "cell_type": "code",
   "execution_count": 9,
   "id": "e8b02279",
   "metadata": {},
   "outputs": [
    {
     "data": {
      "text/plain": [
       "Survived      0\n",
       "Age         177\n",
       "Fare          0\n",
       "dtype: int64"
      ]
     },
     "execution_count": 9,
     "metadata": {},
     "output_type": "execute_result"
    }
   ],
   "source": [
    "df.isnull().sum()"
   ]
  },
  {
   "cell_type": "code",
   "execution_count": 15,
   "id": "bbb000e0",
   "metadata": {},
   "outputs": [
    {
     "data": {
      "text/plain": [
       "177"
      ]
     },
     "execution_count": 15,
     "metadata": {},
     "output_type": "execute_result"
    }
   ],
   "source": [
    "df['Age'].isnull().sum()"
   ]
  },
  {
   "cell_type": "code",
   "execution_count": 27,
   "id": "3745ed6b",
   "metadata": {
    "scrolled": true
   },
   "outputs": [
    {
     "data": {
      "text/plain": [
       "423    28.00\n",
       "177    50.00\n",
       "305     0.92\n",
       "292    36.00\n",
       "889    26.00\n",
       "       ...  \n",
       "539    22.00\n",
       "267    25.00\n",
       "352    15.00\n",
       "99     34.00\n",
       "689    15.00\n",
       "Name: Age, Length: 177, dtype: float64"
      ]
     },
     "execution_count": 27,
     "metadata": {},
     "output_type": "execute_result"
    }
   ],
   "source": [
    "df['Age'].dropna().sample(df['Age'].isnull().sum(),random_state=0)"
   ]
  },
  {
   "cell_type": "code",
   "execution_count": 28,
   "id": "3be67e26",
   "metadata": {},
   "outputs": [],
   "source": [
    "def impute_nan(df,variable,median):\n",
    "    df[variable+\"_median\"]=df[variable].fillna(median)\n",
    "    df[variable+\"_random\"]=df[variable]\n",
    "    ##It will have the random sample to fill the na\n",
    "    random_sample=df[variable].dropna().sample(df[variable].isnull().sum(),random_state=0)\n",
    "    ##pandas need to have same index in order to merge the dataset\n",
    "    random_sample.index=df[df[variable].isnull()].index\n",
    "    df.loc[df[variable].isnull(),variable+'_random']=random_sample"
   ]
  },
  {
   "cell_type": "code",
   "execution_count": 29,
   "id": "ede50284",
   "metadata": {},
   "outputs": [
    {
     "data": {
      "text/plain": [
       "28.0"
      ]
     },
     "execution_count": 29,
     "metadata": {},
     "output_type": "execute_result"
    }
   ],
   "source": [
    "median = df.Age.median()\n",
    "median"
   ]
  },
  {
   "cell_type": "code",
   "execution_count": 30,
   "id": "09244d17",
   "metadata": {},
   "outputs": [],
   "source": [
    "impute_nan(df,'Age',median)"
   ]
  },
  {
   "cell_type": "code",
   "execution_count": 31,
   "id": "59772ba3",
   "metadata": {},
   "outputs": [
    {
     "data": {
      "text/html": [
       "<div>\n",
       "<style scoped>\n",
       "    .dataframe tbody tr th:only-of-type {\n",
       "        vertical-align: middle;\n",
       "    }\n",
       "\n",
       "    .dataframe tbody tr th {\n",
       "        vertical-align: top;\n",
       "    }\n",
       "\n",
       "    .dataframe thead th {\n",
       "        text-align: right;\n",
       "    }\n",
       "</style>\n",
       "<table border=\"1\" class=\"dataframe\">\n",
       "  <thead>\n",
       "    <tr style=\"text-align: right;\">\n",
       "      <th></th>\n",
       "      <th>Survived</th>\n",
       "      <th>Age</th>\n",
       "      <th>Fare</th>\n",
       "      <th>Age_median</th>\n",
       "      <th>Age_random</th>\n",
       "    </tr>\n",
       "  </thead>\n",
       "  <tbody>\n",
       "    <tr>\n",
       "      <th>0</th>\n",
       "      <td>0</td>\n",
       "      <td>22.0</td>\n",
       "      <td>7.2500</td>\n",
       "      <td>22.0</td>\n",
       "      <td>22.0</td>\n",
       "    </tr>\n",
       "    <tr>\n",
       "      <th>1</th>\n",
       "      <td>1</td>\n",
       "      <td>38.0</td>\n",
       "      <td>71.2833</td>\n",
       "      <td>38.0</td>\n",
       "      <td>38.0</td>\n",
       "    </tr>\n",
       "    <tr>\n",
       "      <th>2</th>\n",
       "      <td>1</td>\n",
       "      <td>26.0</td>\n",
       "      <td>7.9250</td>\n",
       "      <td>26.0</td>\n",
       "      <td>26.0</td>\n",
       "    </tr>\n",
       "    <tr>\n",
       "      <th>3</th>\n",
       "      <td>1</td>\n",
       "      <td>35.0</td>\n",
       "      <td>53.1000</td>\n",
       "      <td>35.0</td>\n",
       "      <td>35.0</td>\n",
       "    </tr>\n",
       "    <tr>\n",
       "      <th>4</th>\n",
       "      <td>0</td>\n",
       "      <td>35.0</td>\n",
       "      <td>8.0500</td>\n",
       "      <td>35.0</td>\n",
       "      <td>35.0</td>\n",
       "    </tr>\n",
       "  </tbody>\n",
       "</table>\n",
       "</div>"
      ],
      "text/plain": [
       "   Survived   Age     Fare  Age_median  Age_random\n",
       "0         0  22.0   7.2500        22.0        22.0\n",
       "1         1  38.0  71.2833        38.0        38.0\n",
       "2         1  26.0   7.9250        26.0        26.0\n",
       "3         1  35.0  53.1000        35.0        35.0\n",
       "4         0  35.0   8.0500        35.0        35.0"
      ]
     },
     "execution_count": 31,
     "metadata": {},
     "output_type": "execute_result"
    }
   ],
   "source": [
    "df.head()"
   ]
  },
  {
   "cell_type": "code",
   "execution_count": 33,
   "id": "6d71b377",
   "metadata": {},
   "outputs": [
    {
     "data": {
      "text/plain": [
       "array([22.  , 38.  , 26.  , 35.  , 28.  , 54.  ,  2.  , 27.  , 14.  ,\n",
       "        4.  , 58.  , 20.  , 39.  , 55.  , 50.  , 31.  ,  0.92, 34.  ,\n",
       "       15.  ,  8.  , 36.  , 19.  , 40.  , 65.  , 66.  , 42.  , 21.  ,\n",
       "       18.  , 47.  ,  3.  ,  7.  , 49.  , 29.  , 28.5 ,  5.  , 11.  ,\n",
       "       45.  , 33.  , 17.  , 32.  , 16.  , 25.  ,  0.75, 24.  ,  0.83,\n",
       "       30.  , 23.  , 46.  , 59.  , 71.  , 37.  , 14.5 , 70.5 , 32.5 ,\n",
       "       12.  ,  9.  , 36.5 , 51.  , 55.5 , 40.5 , 44.  ,  1.  , 52.  ,\n",
       "       61.  , 56.  , 45.5 , 20.5 , 62.  , 41.  , 63.  , 57.  , 13.  ,\n",
       "       23.5 , 43.  , 60.  ,  0.42, 10.  , 64.  , 48.  , 53.  , 80.  ,\n",
       "       70.  , 24.5 ,  6.  ,  0.67, 30.5 , 34.5 , 74.  ])"
      ]
     },
     "execution_count": 33,
     "metadata": {},
     "output_type": "execute_result"
    }
   ],
   "source": [
    "df['Age_random'].unique()"
   ]
  },
  {
   "cell_type": "code",
   "execution_count": 34,
   "id": "f615fe4e",
   "metadata": {},
   "outputs": [
    {
     "data": {
      "text/plain": [
       "array([22.  , 38.  , 26.  , 35.  , 28.  , 54.  ,  2.  , 27.  , 14.  ,\n",
       "        4.  , 58.  , 20.  , 39.  , 55.  , 31.  , 34.  , 15.  ,  8.  ,\n",
       "       19.  , 40.  , 66.  , 42.  , 21.  , 18.  ,  3.  ,  7.  , 49.  ,\n",
       "       29.  , 65.  , 28.5 ,  5.  , 11.  , 45.  , 17.  , 32.  , 16.  ,\n",
       "       25.  ,  0.83, 30.  , 33.  , 23.  , 24.  , 46.  , 59.  , 71.  ,\n",
       "       37.  , 47.  , 14.5 , 70.5 , 32.5 , 12.  ,  9.  , 36.5 , 51.  ,\n",
       "       55.5 , 40.5 , 44.  ,  1.  , 61.  , 56.  , 50.  , 36.  , 45.5 ,\n",
       "       20.5 , 62.  , 41.  , 52.  , 63.  , 23.5 ,  0.92, 43.  , 60.  ,\n",
       "       10.  , 64.  , 13.  , 48.  ,  0.75, 53.  , 57.  , 80.  , 70.  ,\n",
       "       24.5 ,  6.  ,  0.67, 30.5 ,  0.42, 34.5 , 74.  ])"
      ]
     },
     "execution_count": 34,
     "metadata": {},
     "output_type": "execute_result"
    }
   ],
   "source": [
    "df['Age_median'].unique()"
   ]
  },
  {
   "cell_type": "code",
   "execution_count": 36,
   "id": "2f8fa9c2",
   "metadata": {},
   "outputs": [
    {
     "data": {
      "text/plain": [
       "<matplotlib.legend.Legend at 0x1fa898aab90>"
      ]
     },
     "execution_count": 36,
     "metadata": {},
     "output_type": "execute_result"
    },
    {
     "data": {
      "image/png": "[encoded data removed]",
      "text/plain": [
       "<Figure size 500x300 with 1 Axes>"
      ]
     },
     "metadata": {},
     "output_type": "display_data"
    }
   ],
   "source": [
    "fig = plt.figure(figsize=(5,3))\n",
    "ax = fig.add_subplot(111)\n",
    "df['Age'].plot(kind='kde', ax=ax)\n",
    "df.Age_median.plot(kind='kde', ax=ax, color='red')\n",
    "df.Age_random.plot(kind='kde', ax=ax, color='green')\n",
    "lines, labels = ax.get_legend_handles_labels()\n",
    "ax.legend(lines, labels, loc='best')"
   ]
  },
  {
   "cell_type": "code",
   "execution_count": null,
   "id": "5e27ea63",
   "metadata": {},
   "outputs": [],
   "source": []
  }
 ],
 "metadata": {
  "kernelspec": {
   "display_name": "Python 3 (ipykernel)",
   "language": "python",
   "name": "python3"
  },
  "language_info": {
   "codemirror_mode": {
    "name": "ipython",
    "version": 3
   },
   "file_extension": ".py",
   "mimetype": "text/x-python",
   "name": "python",
   "nbconvert_exporter": "python",
   "pygments_lexer": "ipython3",
   "version": "3.10.9"
  }
 },
 "nbformat": 4,
 "nbformat_minor": 5
}
